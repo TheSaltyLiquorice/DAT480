{
 "cells": [
  {
   "cell_type": "code",
   "execution_count": 1,
   "id": "90b19a46-aa3f-40dd-bacb-346926d7ff37",
   "metadata": {},
   "outputs": [],
   "source": [
    "import numpy as np\n",
    "from matplotlib import pyplot as plt \n",
    "import subprocess\n",
    "import os\n",
    "from os import listdir\n",
    "from os.path import isfile, join\n",
    "import re"
   ]
  },
  {
   "cell_type": "code",
   "execution_count": 5,
   "id": "eabf8152-2bd3-4c5a-866f-9ceddcddedeb",
   "metadata": {},
   "outputs": [],
   "source": [
    "def prepend_line(file_name, line):\n",
    "    \"\"\" Insert given string as a new line at the beginning of a file \"\"\"\n",
    "    # define name of temporary dummy file\n",
    "    dummy_file = file_name + '.bak'\n",
    "    # open original file in read mode and dummy file in write mode\n",
    "    with open(file_name, 'r') as read_obj, open(dummy_file, 'w+') as write_obj:\n",
    "        # Write given line to the dummy file\n",
    "        write_obj.write(line + '\\n')\n",
    "        # Read lines from original file one by one and append them to the dummy file\n",
    "        for line in read_obj:\n",
    "            write_obj.write(line)\n",
    "    # remove original file\n",
    "    os.remove(file_name)\n",
    "    # Rename dummy file as the original file\n",
    "    os.rename(dummy_file, file_name)"
   ]
  },
  {
   "cell_type": "code",
   "execution_count": 6,
   "id": "04ecd67f-91a2-458c-aece-105eeae75a2d",
   "metadata": {},
   "outputs": [],
   "source": [
    "size = 1408 * 1\n",
    "shape = (size,1)\n",
    "BYTES_PER_PACKET = 1408\n",
    "shape_global = (size,1)\n",
    "shape_local = (BYTES_PER_PACKET,1)\n",
    "recv_data_global = np.empty(shape_global, dtype = np.uint8)\n",
    "data_partial = np.empty(shape_local, dtype = np.uint8)\n",
    "num_it = (size // BYTES_PER_PACKET)\n",
    "udp_message_global = np.random.randint(low=0, high=((2**8)-1), size=shape, dtype=np.uint8)"
   ]
  },
  {
   "cell_type": "code",
   "execution_count": 7,
   "id": "826d7891-c5b9-46fb-ba6f-503603164986",
   "metadata": {},
   "outputs": [],
   "source": [
    "f = \"/home/jonathan/Documents/Chalmers/Year5/DAT480/Lab_Project/test_vec.txt\"\n",
    "np.savetxt(f,udp_message_global,newline=\"\",fmt=\"%d \")\n"
   ]
  },
  {
   "cell_type": "code",
   "execution_count": 9,
   "id": "fedda2b4-bad5-4b38-a417-c92c59255cdd",
   "metadata": {},
   "outputs": [],
   "source": [
    "# Send 64 bytes of text\n",
    "txt = \"Hi my name is Jonathan, what is your name? How long is the txt?\"\n"
   ]
  },
  {
   "cell_type": "markdown",
   "id": "b8551b41-dd72-4355-88fd-1bfc0977ad13",
   "metadata": {},
   "source": [
    "## Ruleset histogram\n"
   ]
  },
  {
   "cell_type": "code",
   "execution_count": 3,
   "id": "d2371466-a22c-4eb3-9d62-ecc9efb489bd",
   "metadata": {},
   "outputs": [],
   "source": [
    "path = \"/home/jonathan/Documents/Chalmers/Year5/DAT480/Lab_Project/DAT480/Rules_div_by_length/\"\n",
    "r_hashed = open(\"/home/jonathan/Documents/Chalmers/Year5/DAT480/Lab_Project/pattern_match_snort3_content_hashed.txt\")\n",
    "r_length = open(\"/home/jonathan/Documents/Chalmers/Year5/DAT480/Lab_Project/pattern_match_snort3_content_length.txt\")\n",
    "t_hashed = r_hashed.read().splitlines(False)\n",
    "t_hashed = np.array(t_hashed, dtype = str)\n",
    "t_length = r_length.read().splitlines(False)\n",
    "t_length = np.array(t_length, dtype=int)\n",
    "r_hashed.close()\n",
    "r_length.close()\n",
    "\n",
    "rules_hashed = np.array([t_length, t_hashed]).T\n",
    "rules_len_sort = rules_hashed[np.argsort(t_length,axis=0)]\n",
    "for rule in rules_len_sort:\n",
    "    length = rule[0]\n",
    "    f = open(path+\"rule_len_\"+length+\".txt\",\"a+\")\n",
    "    f.write(\"0x\"+rule[1]+\",\\n\")\n",
    "    f.close()"
   ]
  },
  {
   "cell_type": "markdown",
   "id": "b5d640f9-6487-44f2-83f3-ff570c6545bb",
   "metadata": {},
   "source": [
    "### Generate header file with all arrays containing rules"
   ]
  },
  {
   "cell_type": "code",
   "execution_count": 6,
   "id": "ef4fdb3c-1aae-4387-8d0f-e2ab4b8bbd2b",
   "metadata": {},
   "outputs": [],
   "source": [
    "files = [f for f in listdir(path) if isfile(join(path, f))]\n",
    "os.chdir(path)\n",
    "\n",
    "for file in files:\n",
    "    fl = (re.search(\"[0-9]{1,3}\",str(file)).group(0))\n",
    "    prepend_line(path+file, \"uint32_t rule_\"+fl+\" [] = {\\n\")\n",
    "    f=open(path+file,\"a+\")\n",
    "    f.write(\"};\\n\")\n",
    "    f.close()\n",
    "    \n",
    "with open('total_ruleset.h', 'w') as outfile:\n",
    "    for fname in files:\n",
    "        with open(fname) as infile:\n",
    "            for line in infile:\n",
    "                outfile.write(line)"
   ]
  },
  {
   "cell_type": "code",
   "execution_count": 137,
   "id": "793bb7df-cdce-4e20-8d78-485f1ef20133",
   "metadata": {},
   "outputs": [],
   "source": [
    "arr = (np.array(np.unique(rules_len_sort[:,0],return_counts=True),dtype=int))\n",
    "indices=np.argsort(arr[0])\n",
    "\n",
    "sorted_arr = np.array([arr[0][indices], arr[1][indices]])\n",
    "two_d_ruleset = np.zeros([len(np.unique(rules_len_sort[:,0])),sorted_arr[1].max()],dtype=int)\n",
    "prev_length = 0\n",
    "n_idx = 0\n",
    "idx = -1\n",
    "for _, rule in enumerate(rules_len_sort):\n",
    "    length = int(rule[0])\n",
    "    if(length != prev_length):\n",
    "        prev_length = length\n",
    "        n_idx = 0\n",
    "        idx+=1\n",
    "    two_d_ruleset[idx][n_idx] = int(rule[1],16)\n",
    "    n_idx += 1\n",
    "\n",
    "\n",
    "f = open(path+\"elements.h\",\"w+\")\n",
    "f.write(\"uint16_t elements [] = {\\n\")\n",
    "for k in range(len(sorted_arr[0])):\n",
    "    f.write(str(sorted_arr[1][k])+\",\\n\")\n",
    "f.write(\"};\")\n",
    "\n",
    "f = open(path+\"lengths.h\",\"w+\")\n",
    "f.write(\"uint16_t lengths [] = {\\n\")\n",
    "for k in range(len(sorted_arr[0])):\n",
    "    f.write(str(sorted_arr[0][k])+\",\\n\")\n",
    "f.write(\"};\")\n",
    "    \n",
    "    \n",
    "f = open(path+\"rules.h\",\"w+\")\n",
    "f.write(\"uint32_t rules[\"+str(len(two_d_ruleset))+\"][\"+str(len(two_d_ruleset[0]))+\"] = {\\n\")\n",
    "for i in range(len(two_d_ruleset)):\n",
    "    f.write(\"{\")\n",
    "    for j in range(len(two_d_ruleset[0])):\n",
    "        f.write(hex(two_d_ruleset[i][j])+\", \")\n",
    "    f.write(\"},\\n\")\n",
    "f.write(\"};\")\n",
    "f.close()"
   ]
  },
  {
   "cell_type": "code",
   "execution_count": 136,
   "id": "d2534be4-ba4c-442d-b63f-a06bd085a907",
   "metadata": {},
   "outputs": [
    {
     "data": {
      "text/plain": [
       "1"
      ]
     },
     "execution_count": 136,
     "metadata": {},
     "output_type": "execute_result"
    }
   ],
   "source": [
    "sorted_arr[0][0]"
   ]
  }
 ],
 "metadata": {
  "kernelspec": {
   "display_name": "Python 3 (ipykernel)",
   "language": "python",
   "name": "python3"
  },
  "language_info": {
   "codemirror_mode": {
    "name": "ipython",
    "version": 3
   },
   "file_extension": ".py",
   "mimetype": "text/x-python",
   "name": "python",
   "nbconvert_exporter": "python",
   "pygments_lexer": "ipython3",
   "version": "3.9.5"
  }
 },
 "nbformat": 4,
 "nbformat_minor": 5
}
