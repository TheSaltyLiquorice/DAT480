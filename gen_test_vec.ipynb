{
 "cells": [
  {
   "cell_type": "code",
   "execution_count": 2,
   "id": "90b19a46-aa3f-40dd-bacb-346926d7ff37",
   "metadata": {},
   "outputs": [],
   "source": [
    "import numpy as np\n",
    "from matplotlib import pyplot as plt "
   ]
  },
  {
   "cell_type": "code",
   "execution_count": 3,
   "id": "04ecd67f-91a2-458c-aece-105eeae75a2d",
   "metadata": {},
   "outputs": [],
   "source": [
    "size = 1408 * 1\n",
    "shape = (size,1)\n",
    "BYTES_PER_PACKET = 1408\n",
    "shape_global = (size,1)\n",
    "shape_local = (BYTES_PER_PACKET,1)\n",
    "recv_data_global = np.empty(shape_global, dtype = np.uint8)\n",
    "data_partial = np.empty(shape_local, dtype = np.uint8)\n",
    "num_it = (size // BYTES_PER_PACKET)\n",
    "udp_message_global = np.random.randint(low=0, high=((2**8)-1), size=shape, dtype=np.uint8)"
   ]
  },
  {
   "cell_type": "code",
   "execution_count": 4,
   "id": "826d7891-c5b9-46fb-ba6f-503603164986",
   "metadata": {},
   "outputs": [],
   "source": [
    "f = \"/home/jonathan/Documents/Chalmers/Year5/DAT480/Lab_Project/test_vec.txt\"\n",
    "np.savetxt(f,udp_message_global,newline=\"\",fmt=\"%d \")\n"
   ]
  },
  {
   "cell_type": "code",
   "execution_count": 25,
   "id": "fedda2b4-bad5-4b38-a417-c92c59255cdd",
   "metadata": {},
   "outputs": [
    {
     "data": {
      "text/plain": [
       "63"
      ]
     },
     "execution_count": 25,
     "metadata": {},
     "output_type": "execute_result"
    }
   ],
   "source": [
    "# Send 64 bytes of text\n",
    "    txt = \"Hi my name is Jonathan, what is your name? How long is the txt?\"\n"
   ]
  },
  {
   "cell_type": "markdown",
   "id": "b8551b41-dd72-4355-88fd-1bfc0977ad13",
   "metadata": {},
   "source": [
    "## Ruleset histogram\n"
   ]
  },
  {
   "cell_type": "code",
   "execution_count": 13,
   "id": "6275c553-7582-431a-839a-4d3a3d3c6b36",
   "metadata": {},
   "outputs": [],
   "source": [
    "r = open(\"/home/jonathan/Documents/Chalmers/Year5/DAT480/Lab_Project/pattern_match_snort3_content.txt\")\n",
    "rules = r.read()\n",
    "r.close()\n",
    "rules = rules.splitlines(True)\n",
    "\n",
    "occurances = np.zeros(len(rules), dtype=int)\n",
    "max_length = 0\n",
    "lengths = []\n",
    "for line in rules:\n",
    "    line_length = int(len(line))\n",
    "    lengths.append(line_length)\n",
    "    if(line_length > max_length):\n",
    "        max_length = line_length\n",
    "    occurances[line_length] += 1"
   ]
  },
  {
   "cell_type": "code",
   "execution_count": 22,
   "id": "e51d4193-dc27-46cc-9e97-e66d895be8bb",
   "metadata": {},
   "outputs": [
    {
     "data": {
      "text/plain": [
       "(106,)"
      ]
     },
     "execution_count": 22,
     "metadata": {},
     "output_type": "execute_result"
    }
   ],
   "source": [
    "np.unique(lengths,return_counts=True)[1].shape"
   ]
  },
  {
   "cell_type": "code",
   "execution_count": 20,
   "id": "17fcabce-eebb-46fe-95db-32ceee0f8040",
   "metadata": {},
   "outputs": [
    {
     "data": {
      "image/png": "[encoded data removed]",
      "text/plain": [
       "<Figure size 432x288 with 1 Axes>"
      ]
     },
     "metadata": {
      "needs_background": "light"
     },
     "output_type": "display_data"
    }
   ],
   "source": [
    "#bins=np.linspace(0, max_length)\n",
    "plt.hist(occurances[occurances != 0])\n",
    "plt.title(\"histogram of word length\") \n",
    "plt.xlabel(\"Number of Chars\")\n",
    "plt.ylabel(\"Occurances\")\n",
    "plt.show()\n",
    "#plt.rcParams['figure.dpi'] = 100"
   ]
  }
 ],
 "metadata": {
  "kernelspec": {
   "display_name": "Python 3 (ipykernel)",
   "language": "python",
   "name": "python3"
  },
  "language_info": {
   "codemirror_mode": {
    "name": "ipython",
    "version": 3
   },
   "file_extension": ".py",
   "mimetype": "text/x-python",
   "name": "python",
   "nbconvert_exporter": "python",
   "pygments_lexer": "ipython3",
   "version": "3.9.5"
  }
 },
 "nbformat": 4,
 "nbformat_minor": 5
}
